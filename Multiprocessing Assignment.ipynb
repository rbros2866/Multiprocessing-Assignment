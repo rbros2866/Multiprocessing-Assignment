{
 "cells": [
  {
   "cell_type": "markdown",
   "id": "36abce4c",
   "metadata": {},
   "source": [
    "Q1. What is multiprocessing in python? Why is it useful?"
   ]
  },
  {
   "cell_type": "markdown",
   "id": "8a802dfd",
   "metadata": {},
   "source": [
    "Multiprocessing in Python allows for executing tasks using multiple processes simultaneously, enabling true parallelism, improved performance, and better resource utilization, especially for CPU-bound tasks.\n",
    "\n",
    "It bypasses the limitations of the Global Interpreter Lock (GIL) and provides fault isolation, ensuring stability and reliability of the program.\n",
    "\n",
    "\n",
    "\n",
    "\n"
   ]
  },
  {
   "cell_type": "markdown",
   "id": "630be198",
   "metadata": {},
   "source": [
    "Q2. What are the differences between multiprocessing and multithreading?"
   ]
  },
  {
   "cell_type": "markdown",
   "id": "973dd39c",
   "metadata": {},
   "source": [
    "Differences between multiprocessing and multithreading:\n",
    "\n",
    "Execution Model: Multiprocessing involves multiple independent processes, while multithreading involves multiple threads within a single process.\n",
    "\n",
    "Parallelism: Multiprocessing achieves true parallelism with multiple CPUs/cores, while multithreading achieves concurrency but not true parallelism due to the GIL.\n",
    "\n",
    "Resource Sharing: Multiprocessing requires explicit communication/synchronization mechanisms, while multithreading allows for easier sharing of memory and resources.\n",
    "\n",
    "Communication Overhead: Inter-process communication in multiprocessing has higher overhead compared to shared memory in multithreading.\n",
    "\n",
    "Debugging Complexity: Multithreading can be more complex to debug due to race conditions and deadlocks, while multiprocessing offers separate memory spaces for easier debugging.\n",
    "\n",
    "Use Cases: Multiprocessing is suitable for CPU-bound tasks, while multithreading is more suitable for I/O-bound tasks."
   ]
  },
  {
   "cell_type": "markdown",
   "id": "a2fd00bd",
   "metadata": {},
   "source": [
    "Q3. Write a python code to create a process using the multiprocessing module."
   ]
  },
  {
   "cell_type": "code",
   "execution_count": 1,
   "id": "e4df6e9a",
   "metadata": {},
   "outputs": [
    {
     "name": "stdout",
     "output_type": "stream",
     "text": [
      "Parent process completed.\n"
     ]
    }
   ],
   "source": [
    "import multiprocessing\n",
    "\n",
    "def process_function():\n",
    "    print(\"This is a child process.\")\n",
    "\n",
    "if __name__ == '__main__':\n",
    "    # Create a Process object\n",
    "    process = multiprocessing.Process(target=process_function)\n",
    "\n",
    "    # Start the process\n",
    "    process.start()\n",
    "\n",
    "    # Wait for the process to finish\n",
    "    process.join()\n",
    "\n",
    "    print(\"Parent process completed.\")\n"
   ]
  },
  {
   "cell_type": "markdown",
   "id": "0e6513b6",
   "metadata": {},
   "source": [
    "Q4. What is a multiprocessing pool in python? Why is it used?"
   ]
  },
  {
   "cell_type": "markdown",
   "id": "ddc2602d",
   "metadata": {},
   "source": [
    "A multiprocessing pool in Python refers to a mechanism provided by the multiprocessing module to manage a pool of worker processes. It allows for parallel execution of tasks by distributing them among the available worker processes.\n",
    "\n",
    "Multiprocessing pool manages a group of worker processes for parallel task execution.\n",
    "\n",
    "Tasks are distributed among the worker processes, enabling concurrent execution.\n",
    "\n",
    "Worker processes can be reused to minimize process creation overhead.\n",
    "\n",
    "Efficiently utilizes system resources like multiple CPUs or CPU cores.\n",
    "\n",
    "Provides a high-level interface for task submission and result retrieval.\n",
    "\n",
    "Balances the workload distribution among worker processes for optimal performance.\n",
    "\n",
    "Suitable for CPU-bound tasks and scenarios requiring parallel computation or data processing.\n",
    "\n",
    "Requires explicit coordination mechanisms for inter-process communication and synchronization.\n"
   ]
  },
  {
   "cell_type": "markdown",
   "id": "5f0c0736",
   "metadata": {},
   "source": [
    "Q5. How can we create a pool of worker processes in python using the multiprocessing module?"
   ]
  },
  {
   "cell_type": "markdown",
   "id": "bf3209a7",
   "metadata": {},
   "source": [
    "Import the multiprocessing module.\n",
    "\n",
    "Create a Pool object with the desired number of processes.\n",
    "\n",
    "Define the task function to be executed by the worker processes.\n",
    "Prepare a list of tasks.\n",
    "\n",
    "Use the map() method of the Pool object to apply the task function to the list of tasks.\n",
    "\n",
    "Retrieve and process the results.\n",
    "\n",
    "Close the pool and wait for the worker processes to finish using the close() and join() methods, respectively."
   ]
  },
  {
   "cell_type": "code",
   "execution_count": null,
   "id": "2268fe6e",
   "metadata": {},
   "outputs": [],
   "source": [
    "import multiprocessing\n",
    "\n",
    "def task_function(x):\n",
    "    # Perform some computation or task\n",
    "    result = x * x\n",
    "    return result\n",
    "\n",
    "if __name__ == '__main__':\n",
    "    with multiprocessing.Pool(processes=4) as pool:\n",
    "        tasks = [1, 2, 3, 4, 5]\n",
    "        results = pool.map(task_function, tasks)\n",
    "        print(results)\n",
    "\n"
   ]
  },
  {
   "cell_type": "markdown",
   "id": "30aad1db",
   "metadata": {},
   "source": [
    "Q6. Write a python program to create 4 processes, each process should print a different number using the\n",
    "multiprocessing module in python."
   ]
  },
  {
   "cell_type": "code",
   "execution_count": null,
   "id": "48778125",
   "metadata": {},
   "outputs": [],
   "source": [
    "import multiprocessing\n",
    "\n",
    "def print_number(number):\n",
    "    print(f\"Process {number}: {number}\")\n",
    "\n",
    "if __name__ == '__main__':\n",
    "    processes = []\n",
    "    for i in range(4):\n",
    "        process = multiprocessing.Process(target=print_number, args=(i+1,))\n",
    "        processes.append(process)\n",
    "        process.start()\n",
    "\n",
    "    for process in processes:\n",
    "        process.join()\n",
    "\n",
    "    print(\"All processes completed.\")\n"
   ]
  },
  {
   "cell_type": "code",
   "execution_count": null,
   "id": "b233b238",
   "metadata": {},
   "outputs": [],
   "source": []
  }
 ],
 "metadata": {
  "kernelspec": {
   "display_name": "Python 3 (ipykernel)",
   "language": "python",
   "name": "python3"
  },
  "language_info": {
   "codemirror_mode": {
    "name": "ipython",
    "version": 3
   },
   "file_extension": ".py",
   "mimetype": "text/x-python",
   "name": "python",
   "nbconvert_exporter": "python",
   "pygments_lexer": "ipython3",
   "version": "3.11.1"
  }
 },
 "nbformat": 4,
 "nbformat_minor": 5
}
